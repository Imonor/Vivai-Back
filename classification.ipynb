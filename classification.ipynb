{
 "cells": [
  {
   "cell_type": "code",
   "execution_count": 1,
   "metadata": {},
   "outputs": [],
   "source": [
    "import numpy as np\n",
    "import nltk\n",
    "import matplotlib.pyplot as plt\n",
    "import pandas as pd\n",
    "\n",
    "#data scaling\n",
    "from sklearn.preprocessing import StandardScaler\n",
    "from sklearn import svm\n",
    "from sklearn.feature_extraction.text import CountVectorizer\n",
    "from sklearn.model_selection import train_test_split , KFold, cross_val_score, LeaveOneOut\n",
    "from sklearn.naive_bayes import MultinomialNB\n",
    "\n",
    "import spacy\n",
    "import re"
   ]
  },
  {
   "cell_type": "code",
   "execution_count": 2,
   "metadata": {},
   "outputs": [
    {
     "name": "stdout",
     "output_type": "stream",
     "text": [
      "                                              sentence    intention\n",
      "0         Est ce que j'ai besoin d'arroser ma plante ?     arrosage\n",
      "1                    Quand dois-je arroser ma plante ?     arrosage\n",
      "2                          Dois-je arroser ma plante ?     arrosage\n",
      "3                  Comment puis-je arroser ma plante ?     arrosage\n",
      "4               Ma plante a besoin de beaucoup d'eau ?     arrosage\n",
      "5    De quelle quantité d'eau ma plante a t'elle be...     arrosage\n",
      "6                         J'aimerais arroser ma plante     arrosage\n",
      "7                                     Ma plante a soif     arrosage\n",
      "8                        Je pense que ma plante a soif     arrosage\n",
      "9    Ma plante n'a pas l'air bien, que dois-je faire ?     arrosage\n",
      "10   combien de fois dois je donner de l'eau à ma p...     arrosage\n",
      "11        comment puis je donner à boire à ma plante ?     arrosage\n",
      "12          quand dois je donner à boire à ma plante ?     arrosage\n",
      "13                                     arrosage plante     arrosage\n",
      "14                                   arroser ma plante     arrosage\n",
      "15                       aidez moi à arroser ma plante     arrosage\n",
      "16                  j'ai besoin d'aide pour l'arrosage     arrosage\n",
      "17                  comment procéder pour l'arrosage ?     arrosage\n",
      "18                                  ma plante a soif ?     arrosage\n",
      "19                             ma plante devient jaune     arrosage\n",
      "20                      les feuilles deviennent marron     arrosage\n",
      "21               Ma plante a t-elle besoin de soleil ?       soleil\n",
      "22   Ma plante a t-elle besoin de beaucoup de soleil ?       soleil\n",
      "23                    Quelle exposition pour ma plante       soleil\n",
      "24                    Quelle luminosité pour ma plante       soleil\n",
      "25     Ma plante a-t-elle besoin de beaucoup de soleil       soleil\n",
      "26           Ma plante a besoin de beaucoup de soleil?       soleil\n",
      "27                      comment bien exposer sa plante       soleil\n",
      "28                                              soleil       soleil\n",
      "29                                          exposition       soleil\n",
      "..                                                 ...          ...\n",
      "185           quelles sont les propriétés de ma plante  utilisation\n",
      "186  dans quel pays ou région je peux trouver ma pl...  utilisation\n",
      "187                  Quels produits dois-je utiliser ?      planter\n",
      "188                        je dois mettre du terreau ?          NaN\n",
      "189                     quel type de terreau utilisé ?     planter \n",
      "190               dans quelle zone planter ma plante ?     planter \n",
      "191                      je dois mettre de l'engrais ?      planter\n",
      "192                          dois je remuer la terre ?      planter\n",
      "193                        comment planter ma plante ?      planter\n",
      "194                          quand planter ma plante ?      planter\n",
      "195                     où puis je planter ma plante ?      planter\n",
      "196                    conseils pour planter ma plante      planter\n",
      "197          j'ai besoin d'aide pour planter ma plante      planter\n",
      "198                                           planter       planter\n",
      "199                                besoin de terreau ?      planter\n",
      "200                                 besoin d'engrais ?      planter\n",
      "201                             où planter ma plante ?      planter\n",
      "202                 Il y a t'il un risque d'allergie ?     maladies\n",
      "203     il y a des sortes de pucerons sur les feuilles     maladies\n",
      "204                puis-je être allergique à ma plante     maladies\n",
      "205                               ma plante est malade     maladies\n",
      "206                           ma plante a des pucerons     maladies\n",
      "207                                           pucerons     maladies\n",
      "208                 comment se débarasser des pucerons     maladies\n",
      "209                           ma plante ne va pas bien     maladies\n",
      "210                                 je suis allergique     maladies\n",
      "211                               risque de maladies ?     maladies\n",
      "212                       comment protéger ma plante ?     maladies\n",
      "213                                        coccinelles     maladies\n",
      "214                 dois je utiliser des coccinelles ?     maladies\n",
      "\n",
      "[215 rows x 2 columns]\n"
     ]
    }
   ],
   "source": [
    "# preprocessing\n",
    "data = pd.read_csv(\"TrainingSet1.csv\")\n",
    "\n",
    "print( data )\n",
    "\n",
    "#temporaire pour moins de données\n",
    "#data = data.head()\n",
    "\n",
    "intentions = data[\"intention\"].unique()\n",
    "data[\"intention\"] = data[\"intention\"].replace({\"arrosage\" : np.where( intentions == 'arrosage'),\n",
    "                                              \"soleil\": np.where( intentions == 'soleil'), \n",
    "                                              \"tailler\" : np.where( intentions == 'tailler'),\n",
    "                                              \"temperature\" : np.where( intentions == 'temperature'),\n",
    "                                              \"cadeaux\" : np.where( intentions == 'cadeaux'),\n",
    "                                              \"varietes\" : np.where( intentions == 'varietes'),\n",
    "                                              \"entretien\" : np.where( intentions == 'entretien'),\n",
    "                                               \"utilisation\" : np.where( intentions == 'utilisation'),\n",
    "                                               \"planter\" : np.where( intentions == 'planter'),\n",
    "                                               \"maladies\" : np.where( intentions == 'maladies')\n",
    "                                              })"
   ]
  },
  {
   "cell_type": "code",
   "execution_count": null,
   "metadata": {},
   "outputs": [],
   "source": [
    "# attention voir ligne 188\n",
    "# 188                        je dois mettre du terreau ?          NaN"
   ]
  },
  {
   "cell_type": "code",
   "execution_count": 3,
   "metadata": {},
   "outputs": [],
   "source": [
    "y = list(data[\"intention\"])"
   ]
  },
  {
   "cell_type": "code",
   "execution_count": 4,
   "metadata": {},
   "outputs": [],
   "source": [
    "liste = data[\"sentence\"].tolist()\n",
    "j=0;\n",
    "\n",
    "#dictionnaire des mots connus\n",
    "words = list()\n",
    "allowed_pos = ['VERB', 'NOUN', 'PROPN', 'ADJ']\n",
    "\n",
    "# process sentences\n",
    "for i in data[\"sentence\"]:\n",
    "    # convert all letters to lower case\n",
    "    i = i.lower()\n",
    "    i = i.replace('-', ' ')\n",
    "    \n",
    "    regex = re.compile(\"plante([^r]|$)\")\n",
    "    i = regex.sub('', i)\n",
    "    \n",
    "    nlp_fr = spacy.load('fr_core_news_sm')\n",
    "    tokens = nlp_fr(i)\n",
    "\n",
    "    new_sentence = ''\n",
    "    for token in tokens:\n",
    "        if ( allowed_pos.count(token.pos_) > 0 ):\n",
    "                if (token.lemma_ != 't'): \n",
    "                    new_sentence += str(token.lemma_) + ' '\n",
    "                    words.append(str(token.lemma_))\n",
    "        \n",
    "    liste[j] = new_sentence;\n",
    "    j += 1"
   ]
  },
  {
   "cell_type": "code",
   "execution_count": 5,
   "metadata": {},
   "outputs": [],
   "source": [
    "words = list(words)"
   ]
  },
  {
   "cell_type": "code",
   "execution_count": 6,
   "metadata": {},
   "outputs": [],
   "source": [
    "vectorizer = CountVectorizer()\n",
    "X = vectorizer.fit_transform(liste).todense() #renvoie le bag of words"
   ]
  },
  {
   "cell_type": "code",
   "execution_count": 7,
   "metadata": {},
   "outputs": [
    {
     "data": {
      "text/plain": [
       "215"
      ]
     },
     "execution_count": 7,
     "metadata": {},
     "output_type": "execute_result"
    }
   ],
   "source": [
    "loo = LeaveOneOut()\n",
    "loo.get_n_splits(X)"
   ]
  },
  {
   "cell_type": "code",
   "execution_count": 8,
   "metadata": {
    "scrolled": true
   },
   "outputs": [],
   "source": [
    "compt_svm = 0\n",
    "\n",
    "for train_index, test_index in loo.split(X): \n",
    "    X_train = []\n",
    "    y_train = []\n",
    "    for index in train_index:\n",
    "        X_train+=X[index].tolist()\n",
    "        y_train.append(y[index])\n",
    "    X_test = X[test_index].tolist()\n",
    "    y_test = y[int(test_index)]\n",
    "    \n",
    "    clf_svm = svm.SVC(kernel='linear')\n",
    "    clf_svm.fit(X_train, y_train)\n",
    "\n",
    "    if( clf_svm.predict(X_test) != 'nan' ):\n",
    "        if int(clf_svm.predict(X_test))==y_test:  # si prediction svm correcte\n",
    "            compt_svm += 1 "
   ]
  },
  {
   "cell_type": "code",
   "execution_count": 9,
   "metadata": {
    "scrolled": true
   },
   "outputs": [
    {
     "name": "stdout",
     "output_type": "stream",
     "text": [
      "Précision & Recall SVM : 0.7534883720930232\n"
     ]
    }
   ],
   "source": [
    "print(\"Précision & Recall SVM :\", compt_svm/len(X))"
   ]
  },
  {
   "cell_type": "code",
   "execution_count": 10,
   "metadata": {},
   "outputs": [
    {
     "data": {
      "text/plain": [
       "['clf_svm.joblib']"
      ]
     },
     "execution_count": 10,
     "metadata": {},
     "output_type": "execute_result"
    }
   ],
   "source": [
    "from joblib import dump, load\n",
    "dump(clf_svm, 'clf_svm.joblib')"
   ]
  },
  {
   "cell_type": "code",
   "execution_count": 11,
   "metadata": {},
   "outputs": [],
   "source": [
    "# Avant de les charger à nouveau\n",
    "clf_svm = load('clf_svm.joblib') "
   ]
  },
  {
   "cell_type": "code",
   "execution_count": 12,
   "metadata": {},
   "outputs": [
    {
     "name": "stdout",
     "output_type": "stream",
     "text": [
      "arrosage\n"
     ]
    }
   ],
   "source": [
    "# Test with a simple sentence\n",
    "s = \"Dois je donner de l'eau à ma plante\"\n",
    "\n",
    "# Pre-processing\n",
    "s = s.lower()\n",
    "\n",
    "regex = re.compile(\"plante([^r]|$)\")\n",
    "s = regex.sub('', s)\n",
    "\n",
    "nlp_fr = spacy.load('fr_core_news_sm')\n",
    "tokens = nlp_fr(s)\n",
    "\n",
    "words = list()\n",
    "                \n",
    "# Lemmatize\n",
    "for token in tokens:\n",
    "    if ( allowed_pos.count(token.pos_) > 0 ):\n",
    "        if (token.lemma_ != 't'): \n",
    "            words.append(str(token.lemma_))\n",
    "\n",
    "           \n",
    "j = 0;\n",
    "vector = vectorizer.get_feature_names()\n",
    "\n",
    "# Create vector\n",
    "for word in vector:\n",
    "    vector[j] = words.count(word);           \n",
    "    j += 1\n",
    "\n",
    "\n",
    "\n",
    "p = clf_svm.predict([vector])\n",
    "print(intentions[ int(p[0]) ])"
   ]
  },
  {
   "cell_type": "code",
   "execution_count": 39,
   "metadata": {},
   "outputs": [],
   "source": [
    "# detection de la plante choisie\n",
    "\n",
    "plants = ['basilic','Jacques','olivier','Lola']\n",
    "\n",
    "sentence = \"Dois je donner de l'eau à Lola\""
   ]
  },
  {
   "cell_type": "code",
   "execution_count": 45,
   "metadata": {},
   "outputs": [],
   "source": [
    "def identifyWantedPlant(plant_list, sentence):\n",
    "    # plant_list composed of the species and nicknames of the possessed plants\n",
    "    sentence = sentence.lower()\n",
    "    for count,name in enumerate(plant_list):\n",
    "        if re.findall(name.lower(), sentence):\n",
    "            # if found, returns the position in the given list\n",
    "            return count\n",
    "    return -1"
   ]
  },
  {
   "cell_type": "code",
   "execution_count": 46,
   "metadata": {},
   "outputs": [
    {
     "name": "stdout",
     "output_type": "stream",
     "text": [
      "1\n"
     ]
    }
   ],
   "source": [
    "# test\n",
    "print(identifyWantedPlant(plants, \"est-ce que jacques veut boire ???\"))"
   ]
  }
 ],
 "metadata": {
  "kernelspec": {
   "display_name": "Python 3",
   "language": "python",
   "name": "python3"
  },
  "language_info": {
   "codemirror_mode": {
    "name": "ipython",
    "version": 3
   },
   "file_extension": ".py",
   "mimetype": "text/x-python",
   "name": "python",
   "nbconvert_exporter": "python",
   "pygments_lexer": "ipython3",
   "version": "3.7.3"
  }
 },
 "nbformat": 4,
 "nbformat_minor": 2
}
